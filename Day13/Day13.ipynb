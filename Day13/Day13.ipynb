{
 "cells": [
  {
   "cell_type": "code",
   "execution_count": 25,
   "metadata": {},
   "outputs": [],
   "source": [
    "import json\n",
    "\n",
    "with open('input.txt', 'r') as f:\n",
    "    lines = f.readlines()\n",
    "lines = [json.loads(line.strip()) for line in lines if line.strip()]"
   ]
  },
  {
   "cell_type": "code",
   "execution_count": 26,
   "metadata": {},
   "outputs": [],
   "source": [
    "def compare_pair(left: list, right: list):\n",
    "    if left == right:\n",
    "        return \"undecided\"\n",
    "    for i in range(len(left)):\n",
    "        item_left = left[i]\n",
    "        try:\n",
    "            item_right = right[i]\n",
    "        except IndexError:\n",
    "            return \"false\"\n",
    "        if item_left == item_right:\n",
    "            continue\n",
    "        if type(item_left) == int and type(item_right) == int:\n",
    "            return \"true\" if item_left < item_right else \"false\"\n",
    "        if type(item_left) == list and type(item_right) == list:\n",
    "            nested_ret = compare_pair(item_left, item_right)\n",
    "            if nested_ret != \"undecided\":\n",
    "                return nested_ret\n",
    "            continue\n",
    "        if type(item_left) == list:\n",
    "            nested_ret = compare_pair(item_left, [item_right])\n",
    "            if nested_ret != \"undecided\":\n",
    "                return nested_ret\n",
    "            continue\n",
    "        if type(item_right) == list:\n",
    "            nested_ret = compare_pair([item_left], item_right)\n",
    "            if nested_ret != \"undecided\":\n",
    "                return nested_ret\n",
    "            continue\n",
    "    return \"true\""
   ]
  },
  {
   "cell_type": "code",
   "execution_count": 27,
   "metadata": {},
   "outputs": [],
   "source": [
    "pair_sum = 0\n",
    "for pair in range(1, len(lines)+1, 2):\n",
    "    left = lines[pair-1]\n",
    "    right = lines[pair]\n",
    "    result = compare_pair(left, right)\n",
    "    pair_sum += pair//2 + 1 if result == \"true\" else 0\n"
   ]
  },
  {
   "cell_type": "code",
   "execution_count": 28,
   "metadata": {},
   "outputs": [
    {
     "name": "stdout",
     "output_type": "stream",
     "text": [
      "true\n"
     ]
    }
   ],
   "source": [
    "print(compare_pair([[8,7,6]], [9]))"
   ]
  },
  {
   "cell_type": "code",
   "execution_count": 29,
   "metadata": {},
   "outputs": [],
   "source": [
    "def sort_lists(left: list, right: list):\n",
    "    if left == right:\n",
    "        return 0\n",
    "    for i in range(len(left)):\n",
    "        item_left = left[i]\n",
    "        try:\n",
    "            item_right = right[i]\n",
    "        except IndexError:\n",
    "            return 1\n",
    "        if item_left == item_right:\n",
    "            continue\n",
    "        if type(item_left) == int and type(item_right) == int:\n",
    "            return -1 if item_left < item_right else 1\n",
    "        if type(item_left) == list and type(item_right) == list:\n",
    "            nested_ret = sort_lists(item_left, item_right)\n",
    "            if nested_ret != 0:\n",
    "                return nested_ret\n",
    "            continue\n",
    "        if type(item_left) == list:\n",
    "            nested_ret = sort_lists(item_left, [item_right])\n",
    "            if nested_ret != 0:\n",
    "                return nested_ret\n",
    "            continue\n",
    "        if type(item_right) == list:\n",
    "            nested_ret = sort_lists([item_left], item_right)\n",
    "            if nested_ret != 0:\n",
    "                return nested_ret\n",
    "            continue\n",
    "    return -1"
   ]
  },
  {
   "cell_type": "code",
   "execution_count": 34,
   "metadata": {},
   "outputs": [
    {
     "name": "stdout",
     "output_type": "stream",
     "text": [
      "23868\n"
     ]
    }
   ],
   "source": [
    "import copy\n",
    "from functools import cmp_to_key\n",
    "cpy_lines = copy.deepcopy(lines)\n",
    "cpy_lines.append([[2]])\n",
    "cpy_lines.append([[6]])\n",
    "sorted_list = sorted(cpy_lines, key=cmp_to_key(sort_lists))\n",
    "divider_2 = sorted_list.index([[2]]) + 1\n",
    "divider_6 = sorted_list.index([[6]]) + 1\n",
    "print(divider_2 * divider_6)"
   ]
  },
  {
   "cell_type": "code",
   "execution_count": null,
   "metadata": {},
   "outputs": [],
   "source": []
  }
 ],
 "metadata": {
  "kernelspec": {
   "display_name": "Python 3",
   "language": "python",
   "name": "python3"
  },
  "language_info": {
   "codemirror_mode": {
    "name": "ipython",
    "version": 3
   },
   "file_extension": ".py",
   "mimetype": "text/x-python",
   "name": "python",
   "nbconvert_exporter": "python",
   "pygments_lexer": "ipython3",
   "version": "3.10.6"
  },
  "orig_nbformat": 4,
  "vscode": {
   "interpreter": {
    "hash": "767d51c1340bd893661ea55ea3124f6de3c7a262a8b4abca0554b478b1e2ff90"
   }
  }
 },
 "nbformat": 4,
 "nbformat_minor": 2
}
