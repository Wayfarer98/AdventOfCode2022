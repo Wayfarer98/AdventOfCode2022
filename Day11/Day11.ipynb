{
 "cells": [
  {
   "cell_type": "code",
   "execution_count": 42,
   "metadata": {},
   "outputs": [
    {
     "name": "stdout",
     "output_type": "stream",
     "text": [
      "['Monkey 0:', 'Starting items: 72, 97', 'Operation: new = old * 13', 'Test: divisible by 19', 'If true: throw to monkey 5', 'If false: throw to monkey 6', 'Monkey 1:', 'Starting items: 55, 70, 90, 74, 95', 'Operation: new = old * old', 'Test: divisible by 7', 'If true: throw to monkey 5', 'If false: throw to monkey 0', 'Monkey 2:', 'Starting items: 74, 97, 66, 57', 'Operation: new = old + 6', 'Test: divisible by 17', 'If true: throw to monkey 1', 'If false: throw to monkey 0', 'Monkey 3:', 'Starting items: 86, 54, 53', 'Operation: new = old + 2', 'Test: divisible by 13', 'If true: throw to monkey 1', 'If false: throw to monkey 2', 'Monkey 4:', 'Starting items: 50, 65, 78, 50, 62, 99', 'Operation: new = old + 3', 'Test: divisible by 11', 'If true: throw to monkey 3', 'If false: throw to monkey 7', 'Monkey 5:', 'Starting items: 90', 'Operation: new = old + 4', 'Test: divisible by 2', 'If true: throw to monkey 4', 'If false: throw to monkey 6', 'Monkey 6:', 'Starting items: 88, 92, 63, 94, 96, 82, 53, 53', 'Operation: new = old + 8', 'Test: divisible by 5', 'If true: throw to monkey 4', 'If false: throw to monkey 7', 'Monkey 7:', 'Starting items: 70, 60, 71, 69, 77, 70, 98', 'Operation: new = old * 7', 'Test: divisible by 3', 'If true: throw to monkey 2', 'If false: throw to monkey 3']\n"
     ]
    }
   ],
   "source": [
    "import re\n",
    "import operator\n",
    "import math\n",
    "with open('input.txt', 'r') as f:\n",
    "    lines = f.readlines()\n",
    "lines = [line.strip() for line in lines if line.strip()]\n",
    "\n",
    "ops = {\"+\": operator.add, \"-\": operator.sub, \"*\": operator.mul, \"/\": operator.truediv}\n",
    "\n",
    "print(lines)"
   ]
  },
  {
   "cell_type": "code",
   "execution_count": 43,
   "metadata": {},
   "outputs": [],
   "source": [
    "items_lst = []\n",
    "\n",
    "for i in range(len(lines)//6):\n",
    "    items = re.findall(r\"\\b\\d+\\b\", lines[i*6 + 1])\n",
    "\n",
    "    operation = lines[i*6 + 2].split('new = old ')[1].split(' ')\n",
    "    operation[0] = ops[operation[0]]\n",
    "\n",
    "    test = re.findall(r\"\\b\\d+\\b\", lines[i*6 + 3])\n",
    "\n",
    "    true = re.findall(r\"\\b\\d+\\b\", lines[i*6 + 4])\n",
    "    false = re.findall(r\"\\b\\d+\\b\", lines[i*6 + 5])\n",
    "\n",
    "    items_lst.append([items, operation, test, true, false, [0]])\n",
    "\n",
    "for _ in range(20):\n",
    "    for i in range(len(lines)//6):\n",
    "        while items_lst[i][0]:\n",
    "            worry = items_lst[i][0].pop(0)\n",
    "            operation = items_lst[i][1][0]\n",
    "            operator_m = int(worry) if items_lst[i][1][1] == 'old' else int(items_lst[i][1][1])\n",
    "            worry = operation(int(worry), operator_m)\n",
    "            worry = math.floor(worry/3)\n",
    "            test = int(items_lst[i][2][0])\n",
    "            new_monkey = int(items_lst[i][3][0]) if worry%test == 0 else int(items_lst[i][4][0])\n",
    "            items_lst[new_monkey][0].append(str(worry))\n",
    "            items_lst[i][5][0] += 1"
   ]
  },
  {
   "cell_type": "code",
   "execution_count": 44,
   "metadata": {},
   "outputs": [
    {
     "name": "stdout",
     "output_type": "stream",
     "text": [
      "58056\n"
     ]
    }
   ],
   "source": [
    "inspections = [items_lst[i][5][0] for i in range(len(lines)//6)]\n",
    "inspections.sort(reverse=True)\n",
    "print(math.prod(inspections[:2]))"
   ]
  },
  {
   "attachments": {},
   "cell_type": "markdown",
   "metadata": {},
   "source": [
    "# Part 2"
   ]
  },
  {
   "cell_type": "code",
   "execution_count": 48,
   "metadata": {},
   "outputs": [],
   "source": [
    "items_lst = []\n",
    "\n",
    "for i in range(len(lines)//6):\n",
    "    items = re.findall(r\"\\b\\d+\\b\", lines[i*6 + 1])\n",
    "\n",
    "    operation = lines[i*6 + 2].split('new = old ')[1].split(' ')\n",
    "    operation[0] = ops[operation[0]]\n",
    "\n",
    "    test = re.findall(r\"\\b\\d+\\b\", lines[i*6 + 3])\n",
    "\n",
    "    true = re.findall(r\"\\b\\d+\\b\", lines[i*6 + 4])\n",
    "    false = re.findall(r\"\\b\\d+\\b\", lines[i*6 + 5])\n",
    "\n",
    "    items_lst.append([items, operation, test, true, false, [0]])\n",
    "\n",
    "for _ in range(10000):\n",
    "    for i in range(len(lines)//6):\n",
    "        while items_lst[i][0]:\n",
    "            worry = items_lst[i][0].pop(0)\n",
    "            operation = items_lst[i][1][0]\n",
    "            operator_m = int(worry) if items_lst[i][1][1] == 'old' else int(items_lst[i][1][1])\n",
    "            worry = operation(int(worry), operator_m)\n",
    "            tests = [int(items_lst[k][2][0]) for k in range(len(lines)//6)]\n",
    "            worry = operator.mod(worry, math.lcm(*tests))\n",
    "            new_monkey = int(items_lst[i][3][0]) if worry%tests[i] == 0 else int(items_lst[i][4][0])\n",
    "            items_lst[new_monkey][0].append(str(worry))\n",
    "            items_lst[i][5][0] += 1"
   ]
  },
  {
   "cell_type": "code",
   "execution_count": 49,
   "metadata": {},
   "outputs": [
    {
     "name": "stdout",
     "output_type": "stream",
     "text": [
      "15048718170\n"
     ]
    }
   ],
   "source": [
    "inspections = [items_lst[i][5][0] for i in range(len(lines)//6)]\n",
    "inspections.sort(reverse=True)\n",
    "print(math.prod(inspections[:2]))"
   ]
  }
 ],
 "metadata": {
  "kernelspec": {
   "display_name": "Python 3",
   "language": "python",
   "name": "python3"
  },
  "language_info": {
   "codemirror_mode": {
    "name": "ipython",
    "version": 3
   },
   "file_extension": ".py",
   "mimetype": "text/x-python",
   "name": "python",
   "nbconvert_exporter": "python",
   "pygments_lexer": "ipython3",
   "version": "3.10.6"
  },
  "orig_nbformat": 4,
  "vscode": {
   "interpreter": {
    "hash": "767d51c1340bd893661ea55ea3124f6de3c7a262a8b4abca0554b478b1e2ff90"
   }
  }
 },
 "nbformat": 4,
 "nbformat_minor": 2
}
