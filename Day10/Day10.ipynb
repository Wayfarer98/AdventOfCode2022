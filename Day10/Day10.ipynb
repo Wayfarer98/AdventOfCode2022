{
 "cells": [
  {
   "cell_type": "code",
   "execution_count": 22,
   "metadata": {},
   "outputs": [],
   "source": [
    "import numpy as np\n",
    "np.set_printoptions(linewidth=200)\n",
    "\n",
    "with open('input.txt', 'r') as f:\n",
    "    commands = f.readlines()\n",
    "commands = [command.strip() for command in commands]"
   ]
  },
  {
   "cell_type": "code",
   "execution_count": 23,
   "metadata": {},
   "outputs": [],
   "source": [
    "x = 1\n",
    "current_cycle = 0\n",
    "signal_strengths = []\n",
    "for command in commands:\n",
    "    required_cycles = 1 if 'noop' in command else 2\n",
    "    while required_cycles > 0:\n",
    "        current_cycle += 1\n",
    "        if current_cycle in {20, 60, 100, 140, 180, 220}:\n",
    "            signal_strengths.append(x * current_cycle)\n",
    "        required_cycles -= 1\n",
    "    if \"addx\" in command:\n",
    "        x += int(command.split(' ').pop())"
   ]
  },
  {
   "cell_type": "code",
   "execution_count": 24,
   "metadata": {},
   "outputs": [
    {
     "name": "stdout",
     "output_type": "stream",
     "text": [
      "17840\n"
     ]
    }
   ],
   "source": [
    "print(sum(signal_strengths))"
   ]
  },
  {
   "attachments": {},
   "cell_type": "markdown",
   "metadata": {},
   "source": [
    "# Part 2"
   ]
  },
  {
   "cell_type": "code",
   "execution_count": 21,
   "metadata": {},
   "outputs": [
    {
     "name": "stdout",
     "output_type": "stream",
     "text": [
      "[['.' '.' '.' '.' '.' '.' '.' '.' '.' '.' '.' '.' '.' '.' '.' '.' '.' '.' '.' '.' '.' '.' '.' '.' '.' '.' '.' '.' '.' '.' '.' '.' '.' '.' '.' '.' '.' '.' '.' '.']\n",
      " ['.' '.' '.' '.' '.' '.' '.' '.' '.' '.' '.' '.' '.' '.' '.' '.' '.' '.' '.' '.' '.' '.' '.' '.' '.' '.' '.' '.' '.' '.' '.' '.' '.' '.' '.' '.' '.' '.' '.' '.']\n",
      " ['.' '.' '.' '.' '.' '.' '.' '.' '.' '.' '.' '.' '.' '.' '.' '.' '.' '.' '.' '.' '.' '.' '.' '.' '.' '.' '.' '.' '.' '.' '.' '.' '.' '.' '.' '.' '.' '.' '.' '.']\n",
      " ['.' '.' '.' '.' '.' '.' '.' '.' '.' '.' '.' '.' '.' '.' '.' '.' '.' '.' '.' '.' '.' '.' '.' '.' '.' '.' '.' '.' '.' '.' '.' '.' '.' '.' '.' '.' '.' '.' '.' '.']\n",
      " ['.' '.' '.' '.' '.' '.' '.' '.' '.' '.' '.' '.' '.' '.' '.' '.' '.' '.' '.' '.' '.' '.' '.' '.' '.' '.' '.' '.' '.' '.' '.' '.' '.' '.' '.' '.' '.' '.' '.' '.']\n",
      " ['.' '.' '.' '.' '.' '.' '.' '.' '.' '.' '.' '.' '.' '.' '.' '.' '.' '.' '.' '.' '.' '.' '.' '.' '.' '.' '.' '.' '.' '.' '.' '.' '.' '.' '.' '.' '.' '.' '.' '.']]\n"
     ]
    }
   ],
   "source": [
    "grid = np.full((6, 40), fill_value='.', dtype=str)\n",
    "print(grid)"
   ]
  },
  {
   "cell_type": "code",
   "execution_count": 27,
   "metadata": {},
   "outputs": [],
   "source": [
    "current_cycle = 0\n",
    "x = 1\n",
    "command_index = 0\n",
    "required_cycles = 1 if 'noop' in commands[command_index] else 2\n",
    "for crt_y in range(len(grid[:, 0])):\n",
    "    if command_index >= len(commands):\n",
    "        break\n",
    "    for crt_x in range(len(grid[0])):\n",
    "        current_cycle += 1\n",
    "        if crt_x in {x-1, x, x+1}:\n",
    "            grid[crt_y, crt_x] = '#'\n",
    "        required_cycles -= 1\n",
    "        if required_cycles == 0:\n",
    "            if 'addx' in commands[command_index]:\n",
    "                x += int(commands[command_index].split(' ').pop())\n",
    "            command_index += 1\n",
    "            if command_index >= len(commands):\n",
    "                break\n",
    "            required_cycles = 1 if 'noop' in commands[command_index] else 2"
   ]
  },
  {
   "cell_type": "code",
   "execution_count": 28,
   "metadata": {},
   "outputs": [
    {
     "name": "stdout",
     "output_type": "stream",
     "text": [
      "[['#' '#' '#' '#' '.' '.' '#' '#' '.' '.' '#' '.' '.' '.' '.' '.' '#' '#' '.' '.' '#' '.' '.' '#' '.' '#' '.' '.' '.' '.' '#' '#' '#' '.' '.' '.' '#' '#' '.' '.']\n",
      " ['#' '.' '.' '.' '.' '#' '.' '.' '#' '.' '#' '.' '.' '.' '.' '#' '.' '.' '#' '.' '#' '.' '.' '#' '.' '#' '.' '.' '.' '.' '#' '.' '.' '#' '.' '#' '.' '.' '#' '.']\n",
      " ['#' '#' '#' '.' '.' '#' '.' '.' '#' '.' '#' '.' '.' '.' '.' '#' '.' '.' '.' '.' '#' '.' '.' '#' '.' '#' '.' '.' '.' '.' '#' '.' '.' '#' '.' '#' '.' '.' '.' '.']\n",
      " ['#' '.' '.' '.' '.' '#' '#' '#' '#' '.' '#' '.' '.' '.' '.' '#' '.' '#' '#' '.' '#' '.' '.' '#' '.' '#' '.' '.' '.' '.' '#' '#' '#' '.' '.' '#' '.' '#' '#' '.']\n",
      " ['#' '.' '.' '.' '.' '#' '.' '.' '#' '.' '#' '.' '.' '.' '.' '#' '.' '.' '#' '.' '#' '.' '.' '#' '.' '#' '.' '.' '.' '.' '#' '.' '.' '.' '.' '#' '.' '.' '#' '.']\n",
      " ['#' '#' '#' '#' '.' '#' '.' '.' '#' '.' '#' '#' '#' '#' '.' '.' '#' '#' '#' '.' '.' '#' '#' '.' '.' '#' '#' '#' '#' '.' '#' '.' '.' '.' '.' '.' '#' '#' '#' '.']]\n"
     ]
    }
   ],
   "source": [
    "print(grid)"
   ]
  }
 ],
 "metadata": {
  "kernelspec": {
   "display_name": "Python 3",
   "language": "python",
   "name": "python3"
  },
  "language_info": {
   "codemirror_mode": {
    "name": "ipython",
    "version": 3
   },
   "file_extension": ".py",
   "mimetype": "text/x-python",
   "name": "python",
   "nbconvert_exporter": "python",
   "pygments_lexer": "ipython3",
   "version": "3.10.6"
  },
  "orig_nbformat": 4,
  "vscode": {
   "interpreter": {
    "hash": "767d51c1340bd893661ea55ea3124f6de3c7a262a8b4abca0554b478b1e2ff90"
   }
  }
 },
 "nbformat": 4,
 "nbformat_minor": 2
}
