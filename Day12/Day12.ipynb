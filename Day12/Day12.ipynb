{
 "cells": [
  {
   "cell_type": "code",
   "execution_count": 38,
   "metadata": {},
   "outputs": [],
   "source": [
    "import numpy as np\n",
    "import copy\n",
    "\n",
    "with open('input.txt', 'r') as f:\n",
    "    lines = f.readlines()\n",
    "lines = np.array([np.array(list(line.strip())) for line in lines])"
   ]
  },
  {
   "cell_type": "code",
   "execution_count": 39,
   "metadata": {},
   "outputs": [],
   "source": [
    "start = np.where(lines == 'S')\n",
    "start = (start[1][0], start[0][0])\n",
    "end = np.where(lines == \"E\")\n",
    "end = (end[1][0], end[0][0])"
   ]
  },
  {
   "cell_type": "code",
   "execution_count": 40,
   "metadata": {},
   "outputs": [],
   "source": [
    "class node:\n",
    "    def __init__(self, x: int, y: int, elevation: str):\n",
    "        self.x = x\n",
    "        self.y = y\n",
    "        self.visited = False\n",
    "        self.elevation = elevation\n",
    "        self.distance = -1\n",
    "    \n",
    "    def visit(self):\n",
    "        self.visited = True\n",
    "\n",
    "    def set_distance(self, distance):\n",
    "        self.distance = distance\n",
    "    \n",
    "    def __str__(self):\n",
    "        return f\"({self.x}, {self.y}, {self.distance}, {self.visited}, {self.elevation})\"\n",
    "    def __repr__(self):\n",
    "        return f\"({self.x}, {self.y}, {self.distance}, {self.visited}, {self.elevation})\"\n",
    "\n",
    "nodes = np.empty_like(lines, dtype=node)"
   ]
  },
  {
   "cell_type": "code",
   "execution_count": 41,
   "metadata": {},
   "outputs": [],
   "source": [
    "for row in range(len(lines[:, 0])):\n",
    "    for column in range(len(lines[0])):\n",
    "        item = lines[row, column]\n",
    "        if item == 'S':\n",
    "            elevation = 'a'\n",
    "        elif item == 'E':\n",
    "            elevation = 'z'\n",
    "        else:\n",
    "            elevation = item\n",
    "        nodes[row, column] = node(column, row, elevation)"
   ]
  },
  {
   "cell_type": "code",
   "execution_count": 42,
   "metadata": {},
   "outputs": [],
   "source": [
    "def get_adjacent_nodes(node: node, grid: np.ndarray[np.ndarray[node]]) -> set:\n",
    "    ret = set()\n",
    "    if node.x > 0:\n",
    "        adj_node = grid[node.y, node.x-1]\n",
    "        if not adj_node.visited and (ord(node.elevation)-ord(adj_node.elevation)) >= -1:\n",
    "            adj_node.set_distance(node.distance + 1)\n",
    "            ret.add(adj_node)\n",
    "    if node.x < len(grid[0])-1:\n",
    "        adj_node = grid[node.y, node.x+1]\n",
    "        if not adj_node.visited and (ord(node.elevation)-ord(adj_node.elevation)) >= -1:\n",
    "            adj_node.set_distance(node.distance + 1)\n",
    "            ret.add(adj_node)\n",
    "    if node.y > 0:\n",
    "        adj_node = grid[node.y-1, node.x]\n",
    "        if not adj_node.visited and (ord(node.elevation)-ord(adj_node.elevation)) >= -1:\n",
    "            adj_node.set_distance(node.distance + 1)\n",
    "            ret.add(adj_node)\n",
    "    if node.y < len(grid[:, 0])-1:\n",
    "        adj_node = grid[node.y+1, node.x]\n",
    "        if not adj_node.visited and (ord(node.elevation)-ord(adj_node.elevation)) >= -1:\n",
    "            adj_node.set_distance(node.distance + 1)\n",
    "            ret.add(adj_node)\n",
    "    return ret\n",
    "\n",
    "def dijkstra(grid: np.ndarray[np.ndarray[node]], startingnode: node, endnode: node) -> int:\n",
    "    startingnode.set_distance(0)\n",
    "    available = get_adjacent_nodes(startingnode, grid)\n",
    "    while True:\n",
    "        if not available:\n",
    "            return -1\n",
    "        shortest_path = next(iter(available))\n",
    "        for node in available:\n",
    "            if node.distance < shortest_path.distance and node.distance > -1:\n",
    "                shortest_path = node\n",
    "        if shortest_path == endnode:\n",
    "            return shortest_path.distance\n",
    "\n",
    "        available.remove(shortest_path)\n",
    "        shortest_path.visit()\n",
    "        available = available.union(get_adjacent_nodes(shortest_path, grid))\n",
    "        \n"
   ]
  },
  {
   "cell_type": "code",
   "execution_count": 43,
   "metadata": {},
   "outputs": [
    {
     "data": {
      "text/plain": [
       "490"
      ]
     },
     "execution_count": 43,
     "metadata": {},
     "output_type": "execute_result"
    }
   ],
   "source": [
    "dijkstra_nodes = copy.deepcopy(nodes)\n",
    "starting_node = dijkstra_nodes[start[1], start[0]]\n",
    "ending_node = dijkstra_nodes[end[1], end[0]]\n",
    "\n",
    "#get_adjacent_nodes(starting_node, dijkstra_nodes)\n",
    "dijkstra(dijkstra_nodes, starting_node, ending_node)"
   ]
  },
  {
   "attachments": {},
   "cell_type": "markdown",
   "metadata": {},
   "source": [
    "# Part 2"
   ]
  },
  {
   "cell_type": "code",
   "execution_count": null,
   "metadata": {},
   "outputs": [],
   "source": [
    "dijkstra_nodes2 = copy.deepcopy(nodes)\n",
    "starting_node = dijkstra_nodes2[start[1], start[0]]\n",
    "ending_node = dijkstra_nodes2[end[1], end[0]]\n",
    "\n",
    "starting_points = set()\n",
    "for i in range(len(dijkstra_nodes2[:, 0])):\n",
    "    for j in range(len(dijkstra_nodes2[0])):\n",
    "        node = dijkstra_nodes2[i, j]\n",
    "        if node.elevation == 'a':\n",
    "            starting_points.add(dijkstra_nodes2[i, j])\n",
    "\n",
    "distances = []\n",
    "for point in starting_points:\n",
    "    dijkstra_nodes2 = copy.deepcopy(nodes)\n",
    "    ending_node = dijkstra_nodes2[end[1], end[0]]\n",
    "    result = dijkstra(dijkstra_nodes2, point, ending_node)\n",
    "    if result > -1:\n",
    "        distances.append(result)"
   ]
  },
  {
   "cell_type": "code",
   "execution_count": 46,
   "metadata": {},
   "outputs": [
    {
     "name": "stdout",
     "output_type": "stream",
     "text": [
      "488\n"
     ]
    }
   ],
   "source": [
    "print(min(distances))"
   ]
  }
 ],
 "metadata": {
  "kernelspec": {
   "display_name": "Python 3",
   "language": "python",
   "name": "python3"
  },
  "language_info": {
   "codemirror_mode": {
    "name": "ipython",
    "version": 3
   },
   "file_extension": ".py",
   "mimetype": "text/x-python",
   "name": "python",
   "nbconvert_exporter": "python",
   "pygments_lexer": "ipython3",
   "version": "3.10.6"
  },
  "orig_nbformat": 4,
  "vscode": {
   "interpreter": {
    "hash": "767d51c1340bd893661ea55ea3124f6de3c7a262a8b4abca0554b478b1e2ff90"
   }
  }
 },
 "nbformat": 4,
 "nbformat_minor": 2
}
