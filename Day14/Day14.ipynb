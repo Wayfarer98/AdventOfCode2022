{
 "cells": [
  {
   "cell_type": "code",
   "execution_count": 26,
   "metadata": {},
   "outputs": [],
   "source": [
    "import numpy as np\n",
    "import math\n",
    "import copy\n",
    "\n",
    "with open('input.txt', 'r') as f:\n",
    "    lines = f.readlines()\n",
    "lines = [line.strip() for line in lines]"
   ]
  },
  {
   "cell_type": "code",
   "execution_count": 27,
   "metadata": {},
   "outputs": [],
   "source": [
    "edges = []\n",
    "for line in lines:\n",
    "    points = line.split(' -> ')\n",
    "    edges.append([point.split(',') for point in points])\n",
    "\n",
    "max_x = 0\n",
    "min_x = 1000\n",
    "max_y = 0\n",
    "for i in edges:\n",
    "    for j in i:\n",
    "        if int(j[0]) > max_x:\n",
    "            max_x = int(j[0])\n",
    "        if int(j[0]) < min_x:\n",
    "            min_x = int(j[0])\n",
    "        if int(j[1]) > max_y:\n",
    "            max_y = int(j[1])\n",
    "\n",
    "grid = np.full((max_y+1, max_x*2+1), '.', dtype=str)\n",
    "grid[0, 500] = '+'"
   ]
  },
  {
   "cell_type": "code",
   "execution_count": 28,
   "metadata": {},
   "outputs": [],
   "source": [
    "cpy_grid = copy.deepcopy(grid)\n",
    "for edge in edges:\n",
    "    start_x = int(edge[0][0])\n",
    "    start_y = int(edge[0][1])\n",
    "    for point in edge:\n",
    "        x = int(point[0])\n",
    "        y = int(point[1])\n",
    "        if x != start_x:\n",
    "            range_num = x - start_x\n",
    "            for i in range(0, range_num+(np.sign(range_num)), np.sign(range_num)):\n",
    "                cpy_grid[start_y, start_x+i] = \"#\"\n",
    "            start_x = x\n",
    "            continue\n",
    "        if y != start_y:\n",
    "            range_num = y - start_y\n",
    "            for i in range(0, range_num+(np.sign(range_num)), np.sign(range_num)):\n",
    "                cpy_grid[start_y+i, start_x] = \"#\"\n",
    "            start_y = y\n",
    "            continue"
   ]
  },
  {
   "cell_type": "code",
   "execution_count": 29,
   "metadata": {},
   "outputs": [
    {
     "name": "stdout",
     "output_type": "stream",
     "text": [
      "1298\n"
     ]
    }
   ],
   "source": [
    "new_cpy_grid = copy.deepcopy(cpy_grid)\n",
    "\n",
    "def check_falling_dir(grid: np.ndarray, point: tuple):\n",
    "    if grid[point[1]+1, point[0]] == '.':\n",
    "        return 'down'\n",
    "    if grid[point[1]+1, point[0]-1] == '.':\n",
    "        if np.sign(point[0]-1) == -1:\n",
    "            raise IndexError(\"Sand spilled\")\n",
    "        return 'left'\n",
    "    if grid[point[1]+1, point[0]+1] == '.':\n",
    "        return 'right'\n",
    "    grid[point[1], point[0]] = 'o'\n",
    "    return 'settle'\n",
    "\n",
    "still_settling = True\n",
    "resting_sand = 0\n",
    "while still_settling:\n",
    "    falling = True\n",
    "    sand = (500, 0)\n",
    "    while falling:\n",
    "        try:\n",
    "            direction = check_falling_dir(new_cpy_grid, sand)\n",
    "        except IndexError:\n",
    "            falling = False\n",
    "            still_settling = False\n",
    "            continue\n",
    "        if direction == 'down':\n",
    "            sand = (sand[0], sand[1]+1)\n",
    "        elif direction == 'left':\n",
    "            sand = (sand[0]-1, sand[1]+1)\n",
    "        elif direction == 'right':\n",
    "            sand = (sand[0]+1, sand[1]+1)\n",
    "        else:\n",
    "            falling = False\n",
    "            resting_sand += 1\n",
    "print(resting_sand)"
   ]
  },
  {
   "cell_type": "code",
   "execution_count": 30,
   "metadata": {},
   "outputs": [
    {
     "name": "stdout",
     "output_type": "stream",
     "text": [
      "25585\n"
     ]
    }
   ],
   "source": [
    "new_cpy_grid = copy.deepcopy(cpy_grid)\n",
    "new_line = np.full_like(new_cpy_grid[0], '.', dtype=str).reshape((1, -1))\n",
    "full_line = np.full_like(new_cpy_grid[0], '#', dtype=str).reshape((1, -1))\n",
    "new_cpy_grid = np.append(new_cpy_grid, new_line, axis=0)\n",
    "new_cpy_grid = np.append(new_cpy_grid, full_line, axis=0)\n",
    "\n",
    "def check_falling_dir(grid: np.ndarray, point: tuple):\n",
    "    if grid[point[1]+1, point[0]] == '.':\n",
    "        return 'down'\n",
    "    if grid[point[1]+1, point[0]-1] == '.':\n",
    "        if np.sign(point[0]-1) == -1:\n",
    "            raise IndexError(\"Sand spilled\")\n",
    "        return 'left'\n",
    "    if grid[point[1]+1, point[0]+1] == '.':\n",
    "        return 'right'\n",
    "    grid[point[1], point[0]] = 'o'\n",
    "    return 'settle'\n",
    "\n",
    "still_settling = True\n",
    "resting_sand = 0\n",
    "while still_settling:\n",
    "    falling = True\n",
    "    sand = (500, 0)\n",
    "    while falling:\n",
    "        try:\n",
    "            direction = check_falling_dir(new_cpy_grid, sand)\n",
    "        except Exception:\n",
    "            still_settling = False\n",
    "            break\n",
    "        if direction == 'down':\n",
    "            sand = (sand[0], sand[1]+1)\n",
    "        elif direction == 'left':\n",
    "            sand = (sand[0]-1, sand[1]+1)\n",
    "        elif direction == 'right':\n",
    "            sand = (sand[0]+1, sand[1]+1)\n",
    "        else:\n",
    "            falling = False\n",
    "            resting_sand += 1\n",
    "            if sand == (500, 0):\n",
    "                still_settling = False\n",
    "print(resting_sand)"
   ]
  }
 ],
 "metadata": {
  "kernelspec": {
   "display_name": "Python 3",
   "language": "python",
   "name": "python3"
  },
  "language_info": {
   "codemirror_mode": {
    "name": "ipython",
    "version": 3
   },
   "file_extension": ".py",
   "mimetype": "text/x-python",
   "name": "python",
   "nbconvert_exporter": "python",
   "pygments_lexer": "ipython3",
   "version": "3.10.6"
  },
  "orig_nbformat": 4,
  "vscode": {
   "interpreter": {
    "hash": "767d51c1340bd893661ea55ea3124f6de3c7a262a8b4abca0554b478b1e2ff90"
   }
  }
 },
 "nbformat": 4,
 "nbformat_minor": 2
}
