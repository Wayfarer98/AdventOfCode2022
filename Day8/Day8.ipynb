{
 "cells": [
  {
   "cell_type": "code",
   "execution_count": 37,
   "metadata": {},
   "outputs": [],
   "source": [
    "import numpy as np\n",
    "import sys\n",
    "np.set_printoptions(threshold=sys.maxsize)"
   ]
  },
  {
   "cell_type": "code",
   "execution_count": 38,
   "metadata": {},
   "outputs": [],
   "source": [
    "with open('input.txt', 'r') as f:\n",
    "    lines = f.readlines()\n",
    "lines = np.array([list(line.strip()) for line in lines])\n",
    "checks = np.full_like(lines, False, dtype=bool)"
   ]
  },
  {
   "cell_type": "code",
   "execution_count": 39,
   "metadata": {},
   "outputs": [],
   "source": [
    "# Set edges to True\n",
    "checks[0] = np.full_like(checks[0], True, dtype=bool)\n",
    "checks[-1] = np.full_like(checks[0], True, dtype=bool)\n",
    "checks[:, 0] = np.full_like(checks[:, 0], True, dtype=bool)\n",
    "checks[:, -1] = np.full_like(checks[:, -1], True, dtype=bool)"
   ]
  },
  {
   "cell_type": "code",
   "execution_count": 40,
   "metadata": {},
   "outputs": [],
   "source": [
    "def check_visibility_row(row: np.ndarray, row_index: int) -> np.ndarray:\n",
    "    ret = np.copy(row)\n",
    "    highest_from_left = int(lines[row_index, 0])\n",
    "    highest_from_right = int(lines[row_index, -1])\n",
    "    for j in range(len(row)):\n",
    "        tree_left_height = int(lines[row_index, j])\n",
    "        tree_right_height = int(lines[row_index, -(j+1)])\n",
    "        if tree_left_height > highest_from_left:\n",
    "            ret[j] = True\n",
    "            highest_from_left = tree_left_height\n",
    "        if tree_right_height > highest_from_right:\n",
    "            ret[-(j+1)] = True\n",
    "            highest_from_right = tree_right_height\n",
    "    return ret\n",
    "\n",
    "def check_visibility_column(column: np.ndarray, column_index: int) -> np.ndarray:\n",
    "    ret = np.copy(column)\n",
    "    highest_from_top = int(lines[0, column_index])\n",
    "    highest_from_bottom = int(lines[-1, column_index])\n",
    "    for i in range(len(column)):\n",
    "        tree_top_height = int(lines[i, column_index])\n",
    "        tree_bottom_height = int(lines[-(i+1), column_index])\n",
    "        if tree_top_height > highest_from_top:\n",
    "            ret[i] = True\n",
    "            highest_from_top = tree_top_height\n",
    "        if tree_bottom_height > highest_from_bottom:\n",
    "            ret[-(i+1)] = True\n",
    "            highest_from_bottom = tree_bottom_height\n",
    "    return ret"
   ]
  },
  {
   "cell_type": "code",
   "execution_count": 41,
   "metadata": {},
   "outputs": [
    {
     "name": "stdout",
     "output_type": "stream",
     "text": [
      "1669\n"
     ]
    }
   ],
   "source": [
    "copy_checks = np.array(checks, copy=True)\n",
    "for i in range(len(copy_checks[:, 0])):\n",
    "    column = check_visibility_column(copy_checks[:, i], i)\n",
    "    copy_checks[:, i] = np.logical_or(copy_checks[:, i], column)\n",
    "for i in range(len(copy_checks[0])):\n",
    "    row = check_visibility_row(copy_checks[i], i)\n",
    "    copy_checks[i] = np.logical_or(copy_checks[i], row)\n",
    "print(np.sum(copy_checks))"
   ]
  },
  {
   "attachments": {},
   "cell_type": "markdown",
   "metadata": {},
   "source": [
    "# Part 2"
   ]
  },
  {
   "cell_type": "code",
   "execution_count": 60,
   "metadata": {},
   "outputs": [
    {
     "name": "stdout",
     "output_type": "stream",
     "text": [
      "331344\n"
     ]
    }
   ],
   "source": [
    "def find_viewable_left(i: int, j: int):\n",
    "    if not j:\n",
    "        return 0\n",
    "    height = int(lines[i, j])\n",
    "    viewables = 0\n",
    "    index = j - 1\n",
    "    while index >= 0:\n",
    "        other_height = int(lines[i, index])\n",
    "        viewables += 1\n",
    "        if height <= other_height:\n",
    "            return viewables\n",
    "        index -= 1\n",
    "    return viewables\n",
    "\n",
    "def find_viewable_right(i: int, j: int):\n",
    "    if j == len(lines[i]) - 1:\n",
    "        return 0\n",
    "    height = int(lines[i, j])\n",
    "    viewables = 0\n",
    "    index = j + 1\n",
    "    while index <= len(lines[i])-1:\n",
    "        other_height = int(lines[i, index])\n",
    "        viewables += 1\n",
    "        if height <= other_height:\n",
    "            return viewables\n",
    "        index += 1\n",
    "    return viewables\n",
    "\n",
    "def find_viewable_top(i: int, j: int):\n",
    "    if not i:\n",
    "        return 0\n",
    "    height = int(lines[i, j])\n",
    "    viewables = 0\n",
    "    index = i - 1\n",
    "    while index >= 0:\n",
    "        other_height = int(lines[index, j])\n",
    "        viewables += 1\n",
    "        if height <= other_height:\n",
    "            return viewables\n",
    "        index -= 1\n",
    "    return viewables\n",
    "\n",
    "def find_viewable_bottom(i: int, j: int):\n",
    "    if i == len(lines[:, j]) - 1:\n",
    "        return 0\n",
    "    height = int(lines[i, j])\n",
    "    viewables = 0\n",
    "    index = i + 1\n",
    "    while index <= len(lines[:, j])-1:\n",
    "        other_height = int(lines[index, j])\n",
    "        viewables += 1\n",
    "        if height <= other_height:\n",
    "            return viewables\n",
    "        index += 1\n",
    "    return viewables\n",
    "\n",
    "def find_scenic_score(i: int, j: int):\n",
    "    left = find_viewable_left(i, j)\n",
    "    right = find_viewable_right(i, j)\n",
    "    top = find_viewable_top(i, j)\n",
    "    bot = find_viewable_bottom(i, j)\n",
    "    return left * right * top * bot\n",
    "\n",
    "# sourcery skip: use-itertools-product\n",
    "best_scenic_score = 0\n",
    "for i in range(len(lines[:, 0])):\n",
    "    for j in range(len(lines[0])):\n",
    "        score = find_scenic_score(i, j)\n",
    "        if score > best_scenic_score:\n",
    "            best_scenic_score = score\n",
    "\n",
    "print(best_scenic_score)\n"
   ]
  },
  {
   "cell_type": "code",
   "execution_count": null,
   "metadata": {},
   "outputs": [],
   "source": []
  }
 ],
 "metadata": {
  "kernelspec": {
   "display_name": "Python 3.10.6 64-bit",
   "language": "python",
   "name": "python3"
  },
  "language_info": {
   "codemirror_mode": {
    "name": "ipython",
    "version": 3
   },
   "file_extension": ".py",
   "mimetype": "text/x-python",
   "name": "python",
   "nbconvert_exporter": "python",
   "pygments_lexer": "ipython3",
   "version": "3.10.6 (main, Nov  2 2022, 18:53:38) [GCC 11.3.0]"
  },
  "orig_nbformat": 4,
  "vscode": {
   "interpreter": {
    "hash": "767d51c1340bd893661ea55ea3124f6de3c7a262a8b4abca0554b478b1e2ff90"
   }
  }
 },
 "nbformat": 4,
 "nbformat_minor": 2
}
