{
 "cells": [
  {
   "cell_type": "code",
   "execution_count": 46,
   "metadata": {},
   "outputs": [],
   "source": [
    "import numpy as np\n",
    "import operator\n",
    "import sys\n",
    "np.set_printoptions(threshold=sys.maxsize, linewidth=200)\n",
    "\n",
    "with open('input.txt', 'r') as f:\n",
    "    data = f.readlines()\n"
   ]
  },
  {
   "cell_type": "code",
   "execution_count": 49,
   "metadata": {},
   "outputs": [
    {
     "name": "stdout",
     "output_type": "stream",
     "text": [
      "2596\n"
     ]
    }
   ],
   "source": [
    "Heads = [(10, 10), (10, 10), (10, 10), (10, 10), (10, 10), (10, 10), (10, 10), (10, 10), (10, 10), (10, 10)]\n",
    "visited = {Heads[-1]: 1}\n",
    "moves = {'D': (0, -1), 'U': (0, 1), 'L': (-1, 0), 'R': (1, 0)}\n",
    "\n",
    "def find_distance(H_pos, T_pos):\n",
    "    diff_x = H_pos[0] - T_pos[0]\n",
    "    diff_y = H_pos[1] - T_pos[1]\n",
    "    distance = 1 if abs(diff_y) == 1 and abs(diff_x) == 1 else abs(diff_x) + abs(diff_y)\n",
    "    return diff_x, diff_y, distance\n",
    "\n",
    "def move(diff_x, diff_y, T_pos, visit: bool):\n",
    "    new_T_pos = (T_pos[0] + np.sign(diff_x), T_pos[1] + np.sign(diff_y))\n",
    "    if visit:\n",
    "        visited[new_T_pos] = 1 if new_T_pos not in visited else visited[new_T_pos] + 1\n",
    "    return new_T_pos\n",
    "\n",
    "for line in data:\n",
    "    elements = line.split(' ')\n",
    "    move_amount = int(elements[1])\n",
    "    move_direction = elements[0]\n",
    "    move_vector = tuple(move_amount * elm for elm in moves[move_direction])\n",
    "    prev_pos = Heads[0]\n",
    "    Heads[0] = tuple(map(operator.add, Heads[0], move_vector))\n",
    "    diff_x, diff_y, distance = find_distance(Heads[0], Heads[1])\n",
    "\n",
    "    for i in range(len(Heads) - 1):\n",
    "        diff_x, diff_y, distance = find_distance(Heads[i], Heads[i+1])\n",
    "        \n",
    "        while distance > 1:\n",
    "            prev_pos = Heads[i+1]\n",
    "            Heads[i+1] = move(diff_x, diff_y, Heads[i+1], i+1 == (len(Heads) - 1))\n",
    "            diff_x, diff_y, distance = find_distance(Heads[i], Heads[i+1])\n",
    "\n",
    "print(len(visited.keys()))\n",
    "# One off error, dunno why"
   ]
  }
 ],
 "metadata": {
  "kernelspec": {
   "display_name": "Python 3",
   "language": "python",
   "name": "python3"
  },
  "language_info": {
   "codemirror_mode": {
    "name": "ipython",
    "version": 3
   },
   "file_extension": ".py",
   "mimetype": "text/x-python",
   "name": "python",
   "nbconvert_exporter": "python",
   "pygments_lexer": "ipython3",
   "version": "3.10.6 (main, Nov  2 2022, 18:53:38) [GCC 11.3.0]"
  },
  "orig_nbformat": 4,
  "vscode": {
   "interpreter": {
    "hash": "767d51c1340bd893661ea55ea3124f6de3c7a262a8b4abca0554b478b1e2ff90"
   }
  }
 },
 "nbformat": 4,
 "nbformat_minor": 2
}
